{
 "cells": [
  {
   "cell_type": "code",
   "execution_count": 1,
   "id": "6a26e74d",
   "metadata": {},
   "outputs": [],
   "source": [
    "import numpy as np\n",
    "import random\n",
    "import math\n",
    "import matplotlib.pyplot as plt"
   ]
  },
  {
   "cell_type": "code",
   "execution_count": 2,
   "id": "d13fede5",
   "metadata": {},
   "outputs": [],
   "source": [
    "# Définition de la classe Ville\n",
    "class Ville:\n",
    "    def __init__(self, x, y):\n",
    "        self.x = x\n",
    "        self.y = y"
   ]
  },
  {
   "cell_type": "code",
   "execution_count": 3,
   "id": "a006d87d",
   "metadata": {},
   "outputs": [],
   "source": [
    "# Calcul de la distance entre deux villes\n",
    "def distance(ville1, ville2):\n",
    "    return math.sqrt((ville1.x - ville2.x)**2 + (ville1.y - ville2.y)**2)"
   ]
  },
  {
   "cell_type": "code",
   "execution_count": 4,
   "id": "e476b769",
   "metadata": {},
   "outputs": [],
   "source": [
    "# Calcul de la distance totale d'un parcours\n",
    "def distance_totale(parours, villes):\n",
    "    dist = 0\n",
    "    for i in range(len(parours) - 1):\n",
    "        dist += distance(villes[parours[i]], villes[parours[i+1]])\n",
    "    dist += distance(villes[parours[-1]], villes[parours[0]])  # retour à la ville de départ\n",
    "    return dist"
   ]
  },
  {
   "cell_type": "code",
   "execution_count": 5,
   "id": "983ff0b1",
   "metadata": {},
   "outputs": [],
   "source": [
    "# Génération d'une solution initiale aléatoire\n",
    "def generer_solution_initiale(nb_villes):\n",
    "    return random.sample(range(nb_villes), nb_villes)"
   ]
  },
  {
   "cell_type": "code",
   "execution_count": 6,
   "id": "39191928",
   "metadata": {},
   "outputs": [
    {
     "name": "stdout",
     "output_type": "stream",
     "text": [
      "la distance totale de chemins parcouru : 298.193158078212\n",
      "44.41846462902562\n"
     ]
    }
   ],
   "source": [
    "# Générer des villes aléatoires\n",
    "np.random.seed(0)\n",
    "nb_villes = 10\n",
    "villes = [Ville(np.random.randint(100), np.random.randint(100)) for _ in range(nb_villes)]\n",
    "solution=generer_solution_initiale(nb_villes=5)\n",
    "print(\"la distance totale de chemins parcouru :\",distance_totale(solution, villes))\n",
    "print(distance(villes[0],villes[2]))"
   ]
  },
  {
   "cell_type": "code",
   "execution_count": 7,
   "id": "e89f8ad9",
   "metadata": {},
   "outputs": [
    {
     "data": {
      "text/plain": [
       "[4, 5, 1, 2, 0, 3, 6]"
      ]
     },
     "execution_count": 7,
     "metadata": {},
     "output_type": "execute_result"
    }
   ],
   "source": [
    "generer_solution_initiale(nb_villes=7)"
   ]
  },
  {
   "cell_type": "code",
   "execution_count": 8,
   "id": "98c2425f",
   "metadata": {},
   "outputs": [],
   "source": [
    "# Génération d'une solution voisine en échangeant deux villes\n",
    "def generer_solution_voisine(solution):\n",
    "    voisine = solution.copy()\n",
    "    i, j = random.sample(range(len(solution)), 2)\n",
    "    voisine[i], voisine[j] = voisine[j], voisine[i]\n",
    "    return voisine"
   ]
  },
  {
   "cell_type": "code",
   "execution_count": 9,
   "id": "c3351d0a",
   "metadata": {},
   "outputs": [
    {
     "name": "stdout",
     "output_type": "stream",
     "text": [
      "la solution réalisable actuel est  [4, 3, 5, 1, 0, 2, 6]\n",
      "la solution voisin est  [4, 3, 2, 1, 0, 5, 6]\n",
      "la distance totale de la solution actuelle est  356.2938538858132\n",
      "la distance totale de la solution voisin est  405.3012895480898\n"
     ]
    }
   ],
   "source": [
    "solution=generer_solution_initiale(nb_villes=7)\n",
    "voisin=generer_solution_voisine(solution)\n",
    "print(\"la solution réalisable actuel est \",solution)\n",
    "print(\"la solution voisin est \",voisin)\n",
    "### Afficher les couts de la fonction objective \n",
    "print(\"la distance totale de la solution actuelle est \",distance_totale(solution, villes))\n",
    "print(\"la distance totale de la solution voisin est \",distance_totale(voisin, villes))"
   ]
  },
  {
   "cell_type": "code",
   "execution_count": 28,
   "id": "c09ffa1a",
   "metadata": {},
   "outputs": [],
   "source": [
    "# Algorithme de recuit simulé\n",
    "def recuit_simule(villes, temperature_initiale, taux_refroidissement, nb_iterations):\n",
    "    solution_actuelle = generer_solution_initiale(len(villes))\n",
    "    cout_actuel=distance_totale(solution_actuelle, villes)\n",
    "    List_cout=[]\n",
    "    List_cout.append(cout_actuel)\n",
    "    meilleure_solution = solution_actuelle\n",
    "    meilleur_cout=[] \n",
    "    meilleur_cout.append(cout_actuel)\n",
    "    temperature = temperature_initiale\n",
    "    cout=[]\n",
    "\n",
    "    for i in range(nb_iterations):\n",
    "        nouvelle_solution = generer_solution_voisine(solution_actuelle)\n",
    "        nouveau_cout = distance_totale(nouvelle_solution, villes)\n",
    "        delta_cout = nouveau_cout - cout_actuel\n",
    "        r=random.random()\n",
    "        print(r)\n",
    "        print(math.exp(-delta_cout / temperature))\n",
    "        \n",
    "        if delta_cout < 0 or r < math.exp(-delta_cout / temperature):\n",
    "            solution_actuelle = nouvelle_solution\n",
    "            cout_actuel=nouveau_cout\n",
    "            List_cout.append(cout_actuel)\n",
    "\n",
    "        if cout_actuel < meilleur_cout[-1]:\n",
    "            meilleure_solution = solution_actuelle\n",
    "            meilleur_cout.append(cout_actuel)\n",
    "\n",
    "        temperature *= taux_refroidissement\n",
    "\n",
    "    return meilleure_solution, meilleur_cout, List_cout"
   ]
  },
  {
   "cell_type": "code",
   "execution_count": 31,
   "id": "69cace32",
   "metadata": {},
   "outputs": [
    {
     "name": "stdout",
     "output_type": "stream",
     "text": [
      "0.275635957237381\n",
      "1.6832009105047085\n",
      "0.017645169561823826\n",
      "1.5904238154894954\n",
      "0.7951994969615078\n",
      "0.3659951000450652\n",
      "0.8837993897041965\n",
      "0.8251264988594915\n",
      "0.5983176411421859\n",
      "0.6963137684338198\n",
      "0.6046400198690897\n",
      "0.7887491998592385\n",
      "0.225560025383027\n",
      "0.1992635649373015\n",
      "0.004459384061500593\n",
      "0.5765334580217073\n",
      "0.6700077726835278\n",
      "1.6318619749281775\n",
      "0.6819044234985847\n",
      "2.865933100001563\n",
      "0.20384567948550336\n",
      "0.9848379542323686\n",
      "0.7675194986051102\n",
      "0.953507578774858\n",
      "0.3530912136502672\n",
      "0.028742106944451774\n",
      "0.6102263638134796\n",
      "0.6063600445522989\n",
      "0.9129480338403041\n",
      "0.0020990177121069293\n",
      "0.6143348443485459\n",
      "0.7115295956792104\n",
      "0.15558641060905332\n",
      "28.270955048600506\n",
      "0.21395987666243887\n",
      "1.0233977160849\n",
      "0.15696361475348508\n",
      "0.002172928064663334\n",
      "0.7465008249696858\n",
      "0.006119478346773009\n",
      "0.21070532406288578\n",
      "0.26314981807009497\n",
      "0.31770295912989266\n",
      "8.562810350306751e-07\n",
      "0.45153367509669795\n",
      "4.616632219911445e-07\n",
      "0.22568743940129898\n",
      "0.0016110962968501727\n",
      "0.35799205831014724\n",
      "1670.148697173482\n",
      "0.9782336789207616\n",
      "0.10091765500990856\n",
      "0.12484367152045928\n",
      "0.00010502433775664947\n",
      "0.05941086447549415\n",
      "0.000269406082660069\n",
      "0.7356547717668267\n",
      "0.0002932131879311747\n",
      "0.05313781257607941\n",
      "0.6627597707311883\n",
      "0.6236599798937222\n",
      "4.350089054715759e-05\n",
      "0.418921436372938\n",
      "1.5037804317890607e-06\n",
      "0.9226699880374853\n",
      "2.606030276992318e-20\n",
      "0.45184196882310057\n",
      "1.8945032051290346e-21\n",
      "0.464151497101957\n",
      "57760.740560346116\n",
      "0.45241955768790165\n",
      "12.202835150125397\n",
      "0.37819812340012937\n",
      "7.20564106827399e-26\n",
      "0.2551066617488218\n",
      "6.609771354654627e-31\n",
      "0.6335796650010075\n",
      "3.328534509081512e-43\n",
      "0.1576140353484493\n",
      "1.790952463036019e-20\n",
      "0.7856389029198239\n",
      "1.0421410518237296e-08\n",
      "0.09986445235904273\n",
      "1.1183154080819935e-40\n",
      "0.4640274313646541\n",
      "257665.34038819696\n",
      "0.24043351515966505\n",
      "2.0076697558005383e-39\n",
      "0.26889792686607394\n",
      "0.0035848083908017283\n",
      "0.9837791356149111\n",
      "4.6929284810009255e-35\n",
      "0.22595540047838503\n",
      "1.5014479315871673e-94\n",
      "0.4392508464200324\n",
      "1.8130858483880494e-58\n",
      "0.4765801128246988\n",
      "2.715292223846432e-34\n",
      "0.3126656014863579\n",
      "1.528228931816887e-73\n",
      "0.06639088083572853\n",
      "3.661164747591141e-71\n",
      "0.029460003739666063\n",
      "0.9582729768016984\n",
      "0.6426475837991139\n",
      "1.5903564708037525e-117\n",
      "0.0386393570321486\n",
      "4.871347948284352e-07\n",
      "0.7079049564104918\n",
      "7.479664748777201e-53\n",
      "0.3186280908976429\n",
      "7.659619832878414e-268\n",
      "0.8488633172624513\n",
      "4.183082874246496e-112\n",
      "0.48956806217309456\n",
      "0.0\n",
      "0.5017973772677464\n",
      "3.355262808530309e-67\n",
      "0.024873180032218056\n",
      "5314.09168883667\n",
      "0.42237705214964005\n",
      "2.6346428226117987e-245\n",
      "0.33741759015686557\n",
      "1.130025743978076\n",
      "0.474351716717505\n",
      "2.669789539058459e-28\n",
      "0.792540270021552\n",
      "0.0\n",
      "0.3090346935843715\n",
      "0.0\n",
      "0.4100259750990083\n",
      "9.771202254463673e-08\n",
      "0.2587979515135468\n",
      "0.0\n",
      "0.16711885633176038\n",
      "2.3534825413236578e-219\n",
      "0.16159386012382704\n",
      "0.0\n",
      "0.5585006181868052\n",
      "0.0\n",
      "0.7177883530306728\n",
      "0.0\n",
      "0.5508281458440997\n",
      "0.0\n",
      "0.6208127426443587\n",
      "4.12092606135074e-282\n",
      "0.7550953146975757\n",
      "0.0\n",
      "0.20126572103176177\n",
      "7.009376562804354e-281\n",
      "0.5047873293734403\n",
      "2.5120615833567693e-250\n",
      "0.34735913759806947\n",
      "0.0\n",
      "0.7070666420414683\n",
      "0.0\n",
      "0.42451593527133136\n",
      "1.5734615841623511e-149\n",
      "0.5609218850303064\n",
      "0.0\n",
      "0.7190521695198064\n",
      "1.0582321635485013e-302\n",
      "0.18796443168974408\n",
      "0.0\n",
      "0.20359636648737378\n",
      "0.0\n",
      "0.3549799566242754\n",
      "1.0013116360684182e-252\n",
      "0.6981956895658449\n",
      "0.0\n",
      "0.41301047723080175\n",
      "2.190162287710614e-58\n",
      "0.09108208282208163\n",
      "0.0\n",
      "0.4925425804528919\n",
      "0.0\n",
      "0.6588022412881048\n",
      "2.3392572074528685e+81\n",
      "0.46168477385449225\n",
      "0.0\n",
      "0.16853367201579805\n",
      "0.0\n",
      "0.412498595556512\n",
      "0.0\n",
      "0.14574511160975334\n",
      "0.0\n",
      "0.692512922825025\n",
      "0.0\n",
      "0.13700116994960576\n",
      "1.5520262993702073e+220\n",
      "0.17592359320325268\n",
      "0.0\n",
      "0.7928796855219966\n",
      "0.0\n",
      "0.27998838206569476\n",
      "0.0\n",
      "0.7939656693269387\n",
      "0.0\n",
      "0.4588431466489087\n",
      "0.0\n",
      "Meilleure solution: [4, 9, 5, 3, 6, 2, 0, 7, 1, 8]\n",
      "Meilleur coût: 242.37040095921992\n"
     ]
    }
   ],
   "source": [
    "# Générer des villes aléatoires\n",
    "np.random.seed(0)\n",
    "nb_villes = 10\n",
    "villes = [Ville(np.random.randint(100), np.random.randint(100)) for _ in range(nb_villes)]\n",
    "    \n",
    "# Paramètres de l'algorithme\n",
    "temperature_initiale = 100\n",
    "taux_refroidissement = 0.9\n",
    "nb_iterations = 100\n",
    "\n",
    "# Appliquer l'algorithme de recuit simulé\n",
    "meilleure_solution, meilleur_cout, List_cout = recuit_simule(villes, temperature_initiale, taux_refroidissement, nb_iterations)\n",
    "\n",
    "print(\"Meilleure solution:\", meilleure_solution)\n",
    "print(\"Meilleur coût:\", meilleur_cout[-1])"
   ]
  },
  {
   "cell_type": "code",
   "execution_count": 32,
   "id": "271dc91a",
   "metadata": {},
   "outputs": [
    {
     "name": "stdout",
     "output_type": "stream",
     "text": [
      "la longueur de la liste meilleur court 15\n",
      "la longueur de la liste des couts 21\n"
     ]
    }
   ],
   "source": [
    "print(\"la longueur de la liste meilleur court\",len(meilleur_cout))\n",
    "print(\"la longueur de la liste des couts\",len(List_cout))"
   ]
  },
  {
   "cell_type": "code",
   "execution_count": 33,
   "id": "0c1bcb8c",
   "metadata": {},
   "outputs": [
    {
     "data": {
      "text/plain": [
       "Text(0, 0.5, 'Valeur de la fonction objective')"
      ]
     },
     "execution_count": 33,
     "metadata": {},
     "output_type": "execute_result"
    },
    {
     "data": {
      "image/png": "[encoded data removed]",
      "text/plain": [
       "<Figure size 640x480 with 1 Axes>"
      ]
     },
     "metadata": {},
     "output_type": "display_data"
    }
   ],
   "source": [
    "plt.plot(List_cout)\n",
    "plt.title(\"Evolution des solutions acceptées de Recuit Simulé\")\n",
    "plt.xlabel(\"Itérations acceptées\")\n",
    "plt.ylabel(\"Valeur de la fonction objective\")"
   ]
  },
  {
   "cell_type": "code",
   "execution_count": null,
   "id": "73543fd2",
   "metadata": {},
   "outputs": [],
   "source": []
  },
  {
   "cell_type": "code",
   "execution_count": null,
   "id": "8f81e256",
   "metadata": {},
   "outputs": [],
   "source": []
  }
 ],
 "metadata": {
  "kernelspec": {
   "display_name": "Python 3",
   "language": "python",
   "name": "python3"
  },
  "language_info": {
   "codemirror_mode": {
    "name": "ipython",
    "version": 3
   },
   "file_extension": ".py",
   "mimetype": "text/x-python",
   "name": "python",
   "nbconvert_exporter": "python",
   "pygments_lexer": "ipython3",
   "version": "3.12.6"
  }
 },
 "nbformat": 4,
 "nbformat_minor": 5
}
